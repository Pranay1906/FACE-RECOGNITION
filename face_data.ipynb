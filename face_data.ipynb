{
 "cells": [
  {
   "cell_type": "code",
   "execution_count": null,
   "metadata": {},
   "outputs": [],
   "source": [
    "#1. read and show video stream ,capture,images\n",
    "#2. detect faces and show bounding box (haarcascade)\n",
    "#3. flatten the largest face image and save in a numpy array\n",
    "#4. repeat the above for multiple people to generate training data\n",
    "\n",
    "import cv2\n",
    "import numpy as np\n",
    "import matplotlib.pyplot as plt\n",
    "#Init Camera\n",
    "cap=cv2.VideoCapture(0)\n",
    "\n",
    "#face detection\n",
    "face_cascade=cv2.CascadeClassifier(\"C:/Users/nishu/Desktop/New folder (2)/haarcascade_frontalface_alt.xml\")\n",
    "skip=0\n",
    "face_data=[]\n",
    "dataset_path=\"C:/Users/nishu/Desktop/New folder (2)/data/\"\n",
    "file_name=input(\"enter the name of a person: \")\n",
    "while True:\n",
    "    ret,frame=cap.read()\n",
    "    \n",
    "    \n",
    "    if ret==False:\n",
    "        continue\n",
    "    gray_frame=cv2.cvtColor(frame,cv2.COLOR_BGR2GRAY)\n",
    "    faces=face_cascade.detectMultiScale(frame,1.3,5)\n",
    "    faces=sorted(faces,key=lambda f:f[2]*f[3])\n",
    "    \n",
    "    #pick the lst face(because it is the largest face acc to area (f2[2]*f[3]))\n",
    "    for face in faces[-1:]:\n",
    "    \n",
    "        x,y,w,h=face\n",
    "        cv2.rectangle(frame,(x,y),(x+w,y+h),(0,255,255),2)\n",
    "        #extract(crop out the required face): region of interest\n",
    "        offset=10\n",
    "        face_section=frame[y-offset : y+h+offset,x-offset:x+w+offset]\n",
    "        face_section=cv2.resize(face_section,(100,100))\n",
    "        if skip%10==0:\n",
    "            face_data.append(face_section)\n",
    "            print(len(face_data))\n",
    "    cv2.imshow(\"frame\",frame)\n",
    "    cv2.imshow(\"face_section\",face_section)\n",
    "    \n",
    "    \n",
    "    \n",
    "    \n",
    "    key_pressed=cv2.waitKey(1) & 0xFF \n",
    "    if key_pressed == ord(\"q\"):\n",
    "        break\n",
    "\n",
    "#convert our face list array into a numpy array\n",
    "face_data=np.asarray(face_data)\n",
    "face_data=face_data.reshape((face_data.shape[0],-1))\n",
    "print(face_data.shape)\n",
    "        \n",
    "#save this data into file system\n",
    "np.save(dataset_path+file_name+\".npy\",face_data)\n",
    "print(\"data successfully save at \"+dataset_path+file_name+\".npy\")\n",
    "        \n",
    "cap.release()\n",
    "cv2.destroyAllWindows()\n",
    "\n",
    " "
   ]
  },
  {
   "cell_type": "code",
   "execution_count": null,
   "metadata": {},
   "outputs": [],
   "source": []
  },
  {
   "cell_type": "code",
   "execution_count": null,
   "metadata": {},
   "outputs": [],
   "source": []
  }
 ],
 "metadata": {
  "kernelspec": {
   "display_name": "Python 3",
   "language": "python",
   "name": "python3"
  },
  "language_info": {
   "codemirror_mode": {
    "name": "ipython",
    "version": 3
   },
   "file_extension": ".py",
   "mimetype": "text/x-python",
   "name": "python",
   "nbconvert_exporter": "python",
   "pygments_lexer": "ipython3",
   "version": "3.7.4"
  }
 },
 "nbformat": 4,
 "nbformat_minor": 2
}
